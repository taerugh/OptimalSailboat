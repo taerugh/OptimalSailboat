{
 "cells": [
  {
   "cell_type": "code",
   "execution_count": null,
   "metadata": {},
   "outputs": [],
   "source": [
    "import Pkg\n",
    "Pkg.activate(@__DIR__)\n",
    "Pkg.instantiate()\n",
    "\n",
    "using LinearAlgebra, Plots\n",
    "using ProgressMeter\n",
    "import ForwardDiff as FD\n",
    "import Convex as cvx\n",
    "import ECOS\n",
    "\n",
    "include(joinpath(@__DIR__,\"utils\",\"fmincon.jl\"))"
   ]
  },
  {
   "cell_type": "code",
   "execution_count": 2,
   "metadata": {},
   "outputs": [
    {
     "data": {
      "text/plain": [
       "Params(1600.0, 1020.0, 9.81, 2.4, 6800.0, -1000.0, 1.5686274509803921, 0.95, 1.0, 1.0, 1.0, 1.0)"
      ]
     },
     "metadata": {},
     "output_type": "display_data"
    }
   ],
   "source": [
    "struct Params\n",
    "        m::Float64       # kg\n",
    "        ρ::Float64       # kg/m^3\n",
    "        g::Float64       # m/s^2\n",
    "        GMₜ::Float64     # m\n",
    "        Ixx::Float64     # kg m^2\n",
    "        Kₚ::Float64      # kg m^2\n",
    "        ∇::Float64       # m^3, calculated as m/ρ\n",
    "        h2::Float64      # m\n",
    "        A::Float64       # m^2, sail area\n",
    "        l1::Float64      # m, distance from the center of mass to the sail\n",
    "        l2::Float64      # m, distance from the center of mass to the rudder\n",
    "        h::Float64       # m, height of the sail\n",
    "    end\n",
    "    \n",
    "    params = Params(\n",
    "        1600,       # m\n",
    "        1020,       # ρ\n",
    "        9.81,       # g\n",
    "        2.4,        # GMₜ\n",
    "        6800,       # Ixx\n",
    "        -1000,      # Kₚ\n",
    "        1600 / 1020, # ∇, calculated as m/ρ\n",
    "        0.95,       # h2\n",
    "        1,          # A\n",
    "        1,          # l1\n",
    "        1,          # l2\n",
    "        1           # h\n",
    "    )\n",
    "    \n"
   ]
  },
  {
   "cell_type": "markdown",
   "metadata": {},
   "source": [
    "The state of the sailboat is:\n",
    "$$\n",
    "\\eta = \\begin{bmatrix}\n",
    "x \\\\\n",
    "y \\\\\n",
    "\\phi \\\\\n",
    "\\psi\n",
    "\\end{bmatrix}\n",
    "\n",
    "\\nu = \\begin{bmatrix}\n",
    "u \\\\\n",
    "v \\\\\n",
    "p \\\\\n",
    "r\n",
    "\\end{bmatrix}.\n",
    "$$\n",
    "\n",
    "where x and y are north and east positions, $phi$ and $psi$ are the roll and yaw angles.\n",
    "\n",
    "Where u and v are the linear velocities, p and r are the angular velocity of roll and yaw."
   ]
  },
  {
   "cell_type": "markdown",
   "metadata": {},
   "source": [
    "Course angle is defined by \n",
    "$$ X = \\phi + \\beta $$\n",
    "\n",
    "where $\\phi$ is the yaw (heading angle), β is the drift angle\n",
    "\n",
    "\n",
    "$$ \\beta = \\arctan(\\frac{v \\sin(\\beta)}{v \\cos(\\beta) + v_{w}}) $$\n",
    "\n",
    "In a heading controller we minimise the following:\n",
    "$$ e_1 = \\phi - \\phi_d,  e_2 = r$$\n",
    "Where $\\phi_d$ is the desired heading angle, r is the angular yaw velocity\n",
    "\n",
    "The heading controller is turned into a course controller by adding a small correction term:\n",
    "\n",
    "$$ e_1 = \\phi - \\phi_d\n",
    "       = \\phi - (X_d - \\beta_b)     $$\n",
    "\n",
    "$ \\beta_b$ is the neccesary drift angle needed to achieve the desired course angle $X_d$.\n",
    "\n"
   ]
  },
  {
   "cell_type": "code",
   "execution_count": null,
   "metadata": {},
   "outputs": [],
   "source": [
    "\n",
    "function Linearised_lift_sail(params, α, V, CL0, A)\n",
    "    \"\"\"\n",
    "    Linearised lift force FL0 on sail or rudder\n",
    "    ρ is the density of wind or water\n",
    "    V is the velocity of the wind or water relative to the foil \n",
    "    CL0 is the linearised lift coefficient of the foil\n",
    "    α is the angle of attack of the foil\n",
    "    \"\"\"\n",
    "    ρ, As = params.ρ, params.As\n",
    "    return 0.5 * \\rho * A * \\alpha * V^2 * CL0\n",
    "end \n",
    "\n",
    "function Linearised_lift_keel(params, α, V, CL0, A)\n",
    "    \"\"\"\n",
    "    Linearised lift force FL0 on sail or rudder\n",
    "    ρ is the density of wind or water\n",
    "    V is the velocity of the wind or water relative to the foil \n",
    "    CL0 is the linearised lift coefficient of the foil\n",
    "    α is the angle of attack of the foil\n",
    "    \"\"\"\n",
    "    ρ, Ak = params.ρ, params.A \n",
    "    return 0.5 * \\rho * Ak * \\alpha * V^2 * CL0\n",
    "end \n",
    "\n",
    "function undesirable_force_simple(Sy, Ry)\n",
    "    \"\"\"\n",
    "    Simpler equation for the undesirable force.\n",
    "    Taken from https://doi.org/10.1016/j.ifacol.2016.10.490 \n",
    "    \"\"\"\n",
    "    # Sy = Force from sail in y' direction\n",
    "    # Ry = Force from rudder in y' direction\n",
    "\n",
    "    return -Sy - Ry\n",
    "end\n",
    "\n",
    "function keel_angle_of_attack(params, Fu, Cl0k, u, v, αk)\n",
    "    \"\"\"\n",
    "    Cl0k is the linearised lift coefficient of the keel\n",
    "    \"\"\"\n",
    "\n",
    "    ρ, Ak = params.ρ, params.Ak\n",
    "    αₖ = 2 * Fu / (ρ * Ak * Cl0k * (u^2 + v^2))\n",
    "    return αₖ\n",
    "end\n",
    "\n",
    "function neccessary_drift_angle(params, αₖ, ϕ)\n",
    "    \"\"\"\n",
    "    Calculate the neccessary drift angle for the boat to sail in the desired direction.\n",
    "    \"\"\"\n",
    "    return -αₖ * cos(ϕ)\n",
    "end\n",
    "\n",
    "function relative_water_velocity(params, u, v, ϕ, V)\n",
    "    \"\"\"\n",
    "    Calculate the relative water velocity of the boat.\n",
    "    \"\"\"\n",
    "    return u * cos(ϕ) + v * sin(ϕ) - V\n",
    "end\n",
    "\n",
    "\n",
    "    \n"
   ]
  },
  {
   "cell_type": "code",
   "execution_count": 3,
   "metadata": {},
   "outputs": [],
   "source": [
    "\n",
    "\n"
   ]
  },
  {
   "cell_type": "code",
   "execution_count": null,
   "metadata": {},
   "outputs": [],
   "source": []
  }
 ],
 "metadata": {
  "kernelspec": {
   "display_name": "Julia 1.6.7",
   "language": "julia",
   "name": "julia-1.6"
  },
  "language_info": {
   "file_extension": ".jl",
   "mimetype": "application/julia",
   "name": "julia",
   "version": "1.6.7"
  }
 },
 "nbformat": 4,
 "nbformat_minor": 2
}
