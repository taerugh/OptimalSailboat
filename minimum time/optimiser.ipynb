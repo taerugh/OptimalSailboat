{
 "cells": [
  {
   "cell_type": "code",
   "execution_count": 8,
   "metadata": {},
   "outputs": [
    {
     "name": "stderr",
     "output_type": "stream",
     "text": [
      "\u001b[32m\u001b[1m  Activating\u001b[22m\u001b[39m environment at `~/Desktop/CMU/Term_2/16745 Optimal Control/OptimalSailboat/minimum time/Project.toml`\n",
      "\u001b[32m\u001b[1mPrecompiling\u001b[22m\u001b[39m project...\n",
      "\u001b[32m  ✓ \u001b[39m\u001b[90mXorg_libXau_jll\u001b[39m\n",
      "\u001b[33m  ✓ \u001b[39m\u001b[90mPrecompileTools\u001b[39m\n",
      "\u001b[32m  ✓ \u001b[39m\u001b[90mXorg_libXdmcp_jll\u001b[39m\n",
      "\u001b[32m  ✓ \u001b[39m\u001b[90mlibevdev_jll\u001b[39m\n",
      "\u001b[32m  ✓ \u001b[39m\u001b[90mXorg_libpthread_stubs_jll\u001b[39m\n",
      "\u001b[32m  ✓ \u001b[39m\u001b[90mlibpng_jll\u001b[39m\n",
      "\u001b[32m  ✓ \u001b[39m\u001b[90mLibmount_jll\u001b[39m\n",
      "\u001b[32m  ✓ \u001b[39m\u001b[90mLibuuid_jll\u001b[39m\n",
      "\u001b[32m  ✓ \u001b[39m\u001b[90mXZ_jll\u001b[39m\n",
      "\u001b[32m  ✓ \u001b[39m\u001b[90mmtdev_jll\u001b[39m\n",
      "\u001b[32m  ✓ \u001b[39m\u001b[90mWayland_protocols_jll\u001b[39m\n",
      "\u001b[32m  ✓ \u001b[39m\u001b[90mEpollShim_jll\u001b[39m\n",
      "\u001b[32m  ✓ \u001b[39m\u001b[90mXorg_xtrans_jll\u001b[39m\n",
      "\u001b[32m  ✓ \u001b[39m\u001b[90mLZO_jll\u001b[39m\n",
      "\u001b[32m  ✓ \u001b[39m\u001b[90mgperf_jll\u001b[39m\n",
      "\u001b[32m  ✓ \u001b[39m\u001b[90mXorg_libxcb_jll\u001b[39m\n",
      "\u001b[32m  ✓ \u001b[39m\u001b[90mGlib_jll\u001b[39m\n",
      "\u001b[32m  ✓ \u001b[39m\u001b[90mOpenSSL\u001b[39m\n",
      "\u001b[32m  ✓ \u001b[39m\u001b[90mFontconfig_jll\u001b[39m\n",
      "\u001b[32m  ✓ \u001b[39m\u001b[90mRecipesBase\u001b[39m\n",
      "\u001b[32m  ✓ \u001b[39m\u001b[90mLibtiff_jll\u001b[39m\n",
      "\u001b[32m  ✓ \u001b[39m\u001b[90meudev_jll\u001b[39m\n",
      "\u001b[32m  ✓ \u001b[39m\u001b[90mWayland_jll\u001b[39m\n",
      "\u001b[32m  ✓ \u001b[39m\u001b[90mXorg_libX11_jll\u001b[39m\n",
      "\u001b[32m  ✓ \u001b[39m\u001b[90mXorg_xcb_util_jll\u001b[39m\n",
      "\u001b[32m  ✓ \u001b[39m\u001b[90mlibinput_jll\u001b[39m\n",
      "\u001b[32m  ✓ \u001b[39m\u001b[90mXorg_libXext_jll\u001b[39m\n",
      "\u001b[32m  ✓ \u001b[39m\u001b[90mXorg_libxkbfile_jll\u001b[39m\n",
      "\u001b[32m  ✓ \u001b[39m\u001b[90mXorg_libXfixes_jll\u001b[39m\n",
      "\u001b[32m  ✓ \u001b[39m\u001b[90mXorg_libXrender_jll\u001b[39m\n",
      "\u001b[32m  ✓ \u001b[39m\u001b[90mColorVectorSpace\u001b[39m\n",
      "\u001b[32m  ✓ \u001b[39m\u001b[90mXorg_xcb_util_image_jll\u001b[39m\n",
      "\u001b[32m  ✓ \u001b[39m\u001b[90mXorg_xcb_util_renderutil_jll\u001b[39m\n",
      "\u001b[32m  ✓ \u001b[39m\u001b[90mXorg_xcb_util_wm_jll\u001b[39m\n",
      "\u001b[32m  ✓ \u001b[39m\u001b[90mXorg_xcb_util_keysyms_jll\u001b[39m\n",
      "\u001b[32m  ✓ \u001b[39m\u001b[90mLibglvnd_jll\u001b[39m\n",
      "\u001b[32m  ✓ \u001b[39m\u001b[90mXorg_libXinerama_jll\u001b[39m\n",
      "\u001b[32m  ✓ \u001b[39m\u001b[90mXorg_xkbcomp_jll\u001b[39m\n",
      "\u001b[32m  ✓ \u001b[39m\u001b[90mXorg_libXi_jll\u001b[39m\n",
      "\u001b[32m  ✓ \u001b[39m\u001b[90mXorg_libXrandr_jll\u001b[39m\n",
      "\u001b[32m  ✓ \u001b[39m\u001b[90mXorg_libXcursor_jll\u001b[39m\n",
      "\u001b[32m  ✓ \u001b[39m\u001b[90mHTTP\u001b[39m\n",
      "\u001b[32m  ✓ \u001b[39m\u001b[90mXorg_xcb_util_cursor_jll\u001b[39m\n",
      "\u001b[32m  ✓ \u001b[39m\u001b[90mXorg_xkeyboard_config_jll\u001b[39m\n",
      "\u001b[32m  ✓ \u001b[39m\u001b[90mCairo_jll\u001b[39m\n",
      "\u001b[32m  ✓ \u001b[39m\u001b[90mGLFW_jll\u001b[39m\n",
      "\u001b[32m  ✓ \u001b[39m\u001b[90mxkbcommon_jll\u001b[39m\n",
      "\u001b[32m  ✓ \u001b[39m\u001b[90mHarfBuzz_jll\u001b[39m\n",
      "\u001b[32m  ✓ \u001b[39m\u001b[90mVulkan_Loader_jll\u001b[39m\n",
      "\u001b[32m  ✓ \u001b[39m\u001b[90mlibass_jll\u001b[39m\n",
      "\u001b[32m  ✓ \u001b[39m\u001b[90mQt6Base_jll\u001b[39m\n",
      "\u001b[32m  ✓ \u001b[39m\u001b[90mFFMPEG_jll\u001b[39m\n",
      "\u001b[32m  ✓ \u001b[39m\u001b[90mStaticArrays\u001b[39m\n",
      "\u001b[32m  ✓ \u001b[39m\u001b[90mFFMPEG\u001b[39m\n",
      "\u001b[32m  ✓ \u001b[39m\u001b[90mGR_jll\u001b[39m\n",
      "\u001b[32m  ✓ \u001b[39mFiniteDiff\n",
      "\u001b[32m  ✓ \u001b[39m\u001b[90mStructArrays\u001b[39m\n",
      "\u001b[32m  ✓ \u001b[39m\u001b[90mCoordinateTransformations\u001b[39m\n",
      "\u001b[32m  ✓ \u001b[39m\u001b[90mColorSchemes\u001b[39m\n",
      "\u001b[32m  ✓ \u001b[39m\u001b[90mRotations\u001b[39m\n",
      "\u001b[33m  ✓ \u001b[39m\u001b[90mParsers\u001b[39m\n",
      "\u001b[32m  ✓ \u001b[39mForwardDiff\n",
      "\u001b[33m  ✓ \u001b[39m\u001b[90mJSON\u001b[39m\n",
      "\u001b[32m  ✓ \u001b[39mNBInclude\n",
      "\u001b[32m  ✓ \u001b[39mJLD2\n",
      "\u001b[32m  ✓ \u001b[39m\u001b[90mPlotUtils\u001b[39m\n",
      "\u001b[32m  ✓ \u001b[39m\u001b[90mBenchmarkTools\u001b[39m\n",
      "\u001b[32m  ✓ \u001b[39m\u001b[90mGR\u001b[39m\n",
      "\u001b[32m  ✓ \u001b[39m\u001b[90mGeometryBasics\u001b[39m\n",
      "\u001b[32m  ✓ \u001b[39m\u001b[90mRecipesPipeline\u001b[39m\n",
      "\u001b[32m  ✓ \u001b[39m\u001b[90mPlotThemes\u001b[39m\n",
      "\u001b[32m  ✓ \u001b[39mMeshCat\n",
      "\u001b[32m  ✓ \u001b[39mMathOptInterface\n",
      "\u001b[32m  ✓ \u001b[39mPlots\n",
      "\u001b[32m  ✓ \u001b[39mECOS\n",
      "\u001b[32m  ✓ \u001b[39mConvex\n",
      "\u001b[32m  ✓ \u001b[39mIpopt\n",
      "  77 dependencies successfully precompiled in 103 seconds (124 already precompiled)\n",
      "  \u001b[33m3\u001b[39m dependencies precompiled but different versions are currently loaded. Restart julia to access the new versions\n"
     ]
    }
   ],
   "source": [
    "import Pkg\n",
    "Pkg.activate(@__DIR__)\n",
    "Pkg.instantiate()\n",
    "import MathOptInterface as MOI\n",
    "import Ipopt\n",
    "import ForwardDiff as FD\n",
    "import Convex as cvx\n",
    "import ECOS\n",
    "using LinearAlgebra\n",
    "using Plots\n",
    "using Random\n",
    "using JLD2\n",
    "using Test\n",
    "import MeshCat as mc\n",
    "using Printf"
   ]
  },
  {
   "cell_type": "code",
   "execution_count": 45,
   "metadata": {},
   "outputs": [
    {
     "data": {
      "text/plain": [
       "fmincon (generic function with 1 method)"
      ]
     },
     "metadata": {},
     "output_type": "display_data"
    }
   ],
   "source": [
    "include(joinpath(@__DIR__, \"utils\",\"fmincon.jl\"))"
   ]
  },
  {
   "cell_type": "code",
   "execution_count": 46,
   "metadata": {},
   "outputs": [],
   "source": [
    "\"\"\"\n",
    "Converts from cartesian (x,y) to polar (r,θ) coordinates.\n",
    "\"\"\"\n",
    "function car2pol(x, y)\n",
    "    r = √(x^2 + y^2)\n",
    "    θ = atan(y, x)\n",
    "    return r, θ\n",
    "end;\n",
    "\n",
    "\"\"\"\n",
    "Wraps an angle (in radians) to the range [-π, π].\n",
    "\"\"\"\n",
    "function wrap2pi(θ)\n",
    "    return θ - 2*π*floor((θ+π)/(2*π))\n",
    "end;\n",
    "\n",
    "\"\"\"\n",
    "Converts from a vector of vectors to a matrix.\n",
    "\"\"\"\n",
    "function vec2mat(X::Vector{Vector{Float64}})::Matrix\n",
    "    # convert a vector of vectors to a matrix \n",
    "    Xm = hcat(X...)\n",
    "    return Xm \n",
    "end;\n",
    "\n",
    "\"\"\"\n",
    "Converts from a matrix to a vector of vectors.\n",
    "\"\"\"\n",
    "function mat2vec(Xm::Matrix)::Vector{Vector{Float64}}\n",
    "    # convert a matrix into a vector of vectors \n",
    "    X = [Xm[:,i] for i = 1:size(Xm,2)]\n",
    "    return X \n",
    "end;"
   ]
  },
  {
   "cell_type": "code",
   "execution_count": 47,
   "metadata": {},
   "outputs": [
    {
     "data": {
      "text/plain": [
       "rk4 (generic function with 1 method)"
      ]
     },
     "metadata": {},
     "output_type": "display_data"
    }
   ],
   "source": [
    "\"\"\"\n",
    "true wind velocity (vector field)\n",
    "\"\"\"\n",
    "function true_wind(xₒ, yₒ)\n",
    "    ẋ_tw = 1.\n",
    "    ẏ_tw = 0.\n",
    "    return ẋ_tw, ẏ_tw\n",
    "end;\n",
    "\n",
    "\"\"\"\n",
    "dynamics\n",
    "\"\"\"\n",
    "function dynamics(x, u, p)\n",
    "    xₒ, yₒ, θ, v, θ̇ = x\n",
    "    δᵣ, δₛ = u\n",
    "    \n",
    "    # true wind\n",
    "    ẋ_tw, ẏ_tw = true_wind(xₒ, yₒ)\n",
    "    a_tw, ψ_tw = car2pol(ẋ_tw, ẏ_tw)\n",
    "    \n",
    "    # apparent wind\n",
    "    ẋ_aw = a_tw * cos(ψ_tw - θ) - v\n",
    "    ẏ_aw = a_tw * sin(ψ_tw - θ)\n",
    "    a_aw, ψ_aw = car2pol(ẋ_aw, ẏ_aw)\n",
    "    \n",
    "    # forces\n",
    "    gₛ = p[4] * a_aw * sin(δₛ - ψ_aw)\n",
    "    gᵣ = p[5] * v^2 * sin(δᵣ)\n",
    "\n",
    "    # dynamics\n",
    "    ẋ = [v*cos(θ) + p[1]*a_tw*cos(ψ_tw),\n",
    "         v*sin(θ) + p[1]*a_tw*sin(ψ_tw),\n",
    "         θ̇,\n",
    "         (gₛ*sin(δₛ) - gᵣ*p[11]*sin(δᵣ) - p[2]*v^2)/(p[9]),\n",
    "         (gₛ*(p[6] - p[7]*cos(δₛ)) - gᵣ*p[8]*cos(δᵣ) - p[3]*θ̇*v)/(p[10])]\n",
    "\n",
    "    return ẋ\n",
    "end;\n",
    "\n",
    "function rk4(params::NamedTuple, x::Vector, u::Vector, dt::Float64)\n",
    "    # vanilla RK4\n",
    "    k1 = dt*dynamics(params, x, u)\n",
    "    k2 = dt*dynamics(params, x + k1/2, u)\n",
    "    k3 = dt*dynamics(params, x + k2/2, u)\n",
    "    k4 = dt*dynamics(params, x + k3, u)\n",
    "    x + (1/6)*(k1 + 2*k2 + 2*k3 + k4)\n",
    "end"
   ]
  },
  {
   "cell_type": "code",
   "execution_count": 48,
   "metadata": {},
   "outputs": [
    {
     "data": {
      "text/plain": [
       "(Q = [1 0 … 0 0; 0 1 … 0 0; … ; 0 0 … 1 0; 0 0 … 0 1], R = [1 0; 0 1], Qf = [0.1 0.0 … 0.0 0.0; 0.0 0.1 … 0.0 0.0; … ; 0.0 0.0 … 0.1 0.0; 0.0 0.0 … 0.0 0.1], xic = [15.0, 0.0, 2.0943951023931953, 0.0, 0.0], xg = [-15.0, 5.0, 2.0943951023931953, 0.0, 0.0], idx = (nx = 5, nu = 2, N = 10, nz = 68, nc = 45, x = UnitRange{Int64}[1:5, 8:12, 15:19, 22:26, 29:33, 36:40, 43:47, 50:54, 57:61, 64:68], u = UnitRange{Int64}[6:7, 13:14, 20:21, 27:28, 34:35, 41:42, 48:49, 55:56, 62:63], c = UnitRange{Int64}[1:5, 6:10, 11:15, 16:20, 21:25, 26:30, 31:35, 36:40, 41:45]), N = 41, dt = 0.05, tf = 2.0, nx = 5, nu = 2)"
      ]
     },
     "metadata": {},
     "output_type": "display_data"
    }
   ],
   "source": [
    "# This function creates some useful indexing tools for Z\n",
    "# x_i = Z[idx.x[i]]\n",
    "# u_i = Z[idx.u[i]]\n",
    "# Feel free to use/not use anything here.\n",
    "# our Z vector is [x0, u0, x1, u1, …, xN]\n",
    "function create_idx(nx,nu,N)\n",
    "    nz = (N-1) * nu + N * nx # length of Z\n",
    "    x = [(i - 1) * (nx + nu) .+ (1 : nx) for i = 1:N]\n",
    "    u = [(i - 1) * (nx + nu) .+ ((nx + 1):(nx + nu)) for i = 1:(N - 1)]\n",
    "    # constraint indexing for the (N-1) dynamics constraints when stacked up\n",
    "    c = [(i - 1) * (nx) .+ (1 : nx) for i = 1:(N - 1)]\n",
    "    nc = (N - 1) * nx # (N-1)*nx\n",
    "    return (nx=nx,nu=nu,N=N,nz=nz,nc=nc,x= x,u = u,c = c)\n",
    "end\n",
    "\n",
    "N = 100\n",
    "tf = 2.0\n",
    "t_vec = range(0, tf, length = N)\n",
    "dt = ones(N-1)\n",
    "nu = 2\n",
    "nx = 5\n",
    "Q = diagm([1, 1, 1, 1, 1])\n",
    "R = diagm([1, 1])\n",
    "Qf = 0.1 * Q\n",
    "xic = [15.0, 0.0, 2*π/3, 0.0, 0.0]\n",
    "xg = [-15.0, 5.0, 2*π/3, 0.0, 0.0]\n",
    "\n",
    "idx = create_idx(nx,nu,10)\n",
    "\n",
    "params = (Q = Q,\n",
    "          R = R,\n",
    "          Qf = Qf,\n",
    "          xic = xic,\n",
    "          xg = xg,\n",
    "          idx = idx,\n",
    "          N = N,\n",
    "          dt = dt,\n",
    "          tf = tf,\n",
    "          nx = nx,\n",
    "          nu = nu,)"
   ]
  },
  {
   "cell_type": "code",
   "execution_count": 51,
   "metadata": {},
   "outputs": [
    {
     "data": {
      "text/plain": [
       "inequality_constraint (generic function with 1 method)"
      ]
     },
     "metadata": {},
     "output_type": "display_data"
    }
   ],
   "source": [
    "function cost(params, dt::Vector, x::Vector, u::Vector)\n",
    "    Q, R, Qf = params.Q, Params.R\n",
    "    J = 0\n",
    "    for i = 1:N-1\n",
    "        J += dt[i] * (x[i]' * Q * X[i] +  u[i] * R * u[i])\n",
    "    end\n",
    "    J += (x[N]' * Qf * x[N])\n",
    "    return J\n",
    "end\n",
    "\n",
    "function dynamics_constraint(Params, Z)::Vector\n",
    "    idx, N, dt = params.idx, params.N, params.dt\n",
    "    p = [0.03, 40, 6000, 200, 1500, 0.5, 0.5, 2, 300, 400, 0.2]\n",
    "    C = zeros(eltype(Z), idx.nc)\n",
    "    for i = 1:N-1\n",
    "        xi = Z[idx.x[i]]\n",
    "        xip1 = Z[idx.x[i+1]]\n",
    "        ui = Z[idx.u[i]]\n",
    "\n",
    "        C[i] = dynamics(xi, ui, p)\n",
    "    end\n",
    "    return C\n",
    "end\n",
    "\n",
    "function equality_constraint(params::NamedTuple, Z::Vector)::Vector\n",
    "    xg = params.xg\n",
    "    N = params.N\n",
    "    xic = params.xic\n",
    "    return [Z[idx.x[1]] - xic; dynamics_constraint(params, Z); Z[idx.x[N]] - xg]\n",
    "end\n",
    "\n",
    "function inequality_constraint(params, Z)\n",
    "    return zeros(eltype(Z), 0)\n",
    "end\n",
    "\n"
   ]
  },
  {
   "cell_type": "code",
   "execution_count": 52,
   "metadata": {},
   "outputs": [
    {
     "ename": "MethodError",
     "evalue": "MethodError: Cannot `convert` an object of type Vector{Float64} to an object of type Float64\nClosest candidates are:\n  convert(::Type{T}, !Matched::Gray24) where T<:Real at /Users/deniskaanalpay/.julia/packages/ColorTypes/vpFgh/src/conversions.jl:114\n  convert(::Type{T}, !Matched::Gray) where T<:Real at /Users/deniskaanalpay/.julia/packages/ColorTypes/vpFgh/src/conversions.jl:113\n  convert(::Type{T}, !Matched::Base.TwicePrecision) where T<:Number at twiceprecision.jl:250\n  ...",
     "output_type": "error",
     "traceback": [
      "MethodError: Cannot `convert` an object of type Vector{Float64} to an object of type Float64\n",
      "Closest candidates are:\n",
      "  convert(::Type{T}, !Matched::Gray24) where T<:Real at /Users/deniskaanalpay/.julia/packages/ColorTypes/vpFgh/src/conversions.jl:114\n",
      "  convert(::Type{T}, !Matched::Gray) where T<:Real at /Users/deniskaanalpay/.julia/packages/ColorTypes/vpFgh/src/conversions.jl:113\n",
      "  convert(::Type{T}, !Matched::Base.TwicePrecision) where T<:Number at twiceprecision.jl:250\n",
      "  ...\n",
      "\n",
      "Stacktrace:\n",
      " [1] setindex!(A::Vector{Float64}, x::Vector{Float64}, i1::Int64)\n",
      "   @ Base ./array.jl:843\n",
      " [2] dynamics_constraint(Params::NamedTuple{(:Q, :R, :Qf, :xic, :xg, :idx, :N, :dt, :tf, :nx, :nu), Tuple{Matrix{Int64}, Matrix{Int64}, Matrix{Float64}, Vector{Float64}, Vector{Float64}, NamedTuple{(:nx, :nu, :N, :nz, :nc, :x, :u, :c), Tuple{Int64, Int64, Int64, Int64, Int64, Vector{UnitRange{Int64}}, Vector{UnitRange{Int64}}, Vector{UnitRange{Int64}}}}, Int64, Float64, Float64, Int64, Int64}}, Z::Vector{Float64})\n",
      "   @ Main ~/Desktop/CMU/Term_2/16745 Optimal Control/OptimalSailboat/minimum time/optimiser.ipynb:20\n",
      " [3] equality_constraint(params::NamedTuple{(:Q, :R, :Qf, :xic, :xg, :idx, :N, :dt, :tf, :nx, :nu), Tuple{Matrix{Int64}, Matrix{Int64}, Matrix{Float64}, Vector{Float64}, Vector{Float64}, NamedTuple{(:nx, :nu, :N, :nz, :nc, :x, :u, :c), Tuple{Int64, Int64, Int64, Int64, Int64, Vector{UnitRange{Int64}}, Vector{UnitRange{Int64}}, Vector{UnitRange{Int64}}}}, Int64, Float64, Float64, Int64, Int64}}, Z::Vector{Float64})\n",
      "   @ Main ~/Desktop/CMU/Term_2/16745 Optimal Control/OptimalSailboat/minimum time/optimiser.ipynb:29\n",
      " [4] fmincon(cost::typeof(cost), equality_constraint::typeof(equality_constraint), inequality_constraint::typeof(inequality_constraint), x_l::Vector{Float64}, x_u::Vector{Float64}, c_l::Vector{Float64}, c_u::Vector{Float64}, x0::Vector{Float64}, params::NamedTuple{(:Q, :R, :Qf, :xic, :xg, :idx, :N, :dt, :tf, :nx, :nu), Tuple{Matrix{Int64}, Matrix{Int64}, Matrix{Float64}, Vector{Float64}, Vector{Float64}, NamedTuple{(:nx, :nu, :N, :nz, :nc, :x, :u, :c), Tuple{Int64, Int64, Int64, Int64, Int64, Vector{UnitRange{Int64}}, Vector{UnitRange{Int64}}, Vector{UnitRange{Int64}}}}, Int64, Float64, Float64, Int64, Int64}}, diff_type::Symbol; tol::Float64, c_tol::Float64, max_iters::Int64, verbose::Bool)\n",
      "   @ Main ~/Desktop/CMU/Term_2/16745 Optimal Control/OptimalSailboat/minimum time/utils/fmincon.jl:181\n",
      " [5] top-level scope\n",
      "   @ ~/Desktop/CMU/Term_2/16745 Optimal Control/OptimalSailboat/minimum time/optimiser.ipynb:11"
     ]
    }
   ],
   "source": [
    "x_l = -Inf * ones(nx)\n",
    "x_u = Inf * ones(nx)\n",
    "\n",
    "c_l = zeros(0)\n",
    "c_u = zeros(0)\n",
    "\n",
    "Z0 = randn(20)\n",
    "\n",
    "diff_type = :auto # use ForwardDiff.jl\n",
    "\n",
    "Z = fmincon(cost, equality_constraint, inequality_constraint, \n",
    "            x_l, x_u, c_l, c_u, x0, params, diff_type; \n",
    "            tol = 1e-6, c_tol = 1e-6, max_iters = 10_000, verbose = true);\n",
    "\n"
   ]
  },
  {
   "cell_type": "code",
   "execution_count": null,
   "metadata": {},
   "outputs": [],
   "source": []
  }
 ],
 "metadata": {
  "kernelspec": {
   "display_name": "Julia 1.6.7",
   "language": "julia",
   "name": "julia-1.6"
  },
  "language_info": {
   "file_extension": ".jl",
   "mimetype": "application/julia",
   "name": "julia",
   "version": "1.6.7"
  }
 },
 "nbformat": 4,
 "nbformat_minor": 2
}
