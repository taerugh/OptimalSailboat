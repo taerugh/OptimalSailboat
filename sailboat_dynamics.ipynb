{
 "cells": [
  {
   "cell_type": "code",
   "execution_count": null,
   "metadata": {},
   "outputs": [],
   "source": [
    "import Pkg\n",
    "Pkg.activate(@__DIR__)\n",
    "Pkg.instantiate()\n",
    "\n",
    "using LinearAlgebra, Plots\n",
    "using ProgressMeter\n",
    "import ForwardDiff as FD\n",
    "import Convex as cvx\n",
    "import ECOS"
   ]
  },
  {
   "cell_type": "code",
   "execution_count": null,
   "metadata": {},
   "outputs": [],
   "source": [
    "# \"\"\"\n",
    "# convert from cartesian (x,y) to polar (r,θ) coordinates.\n",
    "# \"\"\"\n",
    "# function car2pol(x::Float64, y::Float64)\n",
    "#     r::Float64 = √(x^2 + y^2)\n",
    "#     θ::Float64 = atan(y, x)\n",
    "#     return r, θ\n",
    "# end;\n",
    "\n",
    "function wrap2pi(θ)\n",
    "    return θ - 2*π*floor((θ+π)/(2*π))\n",
    "end;\n",
    "\n",
    "function mat_from_vec(X::Vector{Vector{Float64}})::Matrix\n",
    "    # convert a vector of vectors to a matrix \n",
    "    Xm = hcat(X...)\n",
    "    return Xm \n",
    "end;\n",
    "\n",
    "function vec_from_mat(Xm::Matrix)::Vector{Vector{Float64}}\n",
    "    # convert a matrix into a vector of vectors \n",
    "    X = [Xm[:,i] for i = 1:size(Xm,2)]\n",
    "    return X \n",
    "end;"
   ]
  },
  {
   "cell_type": "markdown",
   "metadata": {},
   "source": [
    "### Variable Definitions\n",
    "\n",
    "#### State Variables:\n",
    " - $(x_o, y_o)$ - global position\n",
    " - $\\theta$ - global orientation\n",
    " - $v$ - velocity\n",
    " - $\\dot{\\theta}$ - angular velocity\n",
    "\n",
    "#### Control Variables:\n",
    " - $\\delta_r$ - rudder angle\n",
    " - $\\delta_s$ - sail angle\n",
    "\n",
    "#### Wind and Force Variables:\n",
    " - $a_{tw}$ - true wind speed\n",
    " - $\\psi_{tw}$ - true wind direction\n",
    "\n",
    "#### Parameters:\n",
    " - $p_1$ - drift coefficient\n",
    " - $p_2$ - tangential friction\n",
    " - $p_3$ - angular friction\n",
    " - $p_4$ - sail lift\n",
    " - $p_5$ - rudder lift\n",
    " - $p_6$ - distance to sail CoE (center of effort)\n",
    " - $p_7$ - distance to mast\n",
    " - $p_8$ - distance to rudder\n",
    " - $p_9$ - mass of boat\n",
    " - $p_{10}$ - moment of inertia\n",
    " - $p_{11}$ - rudder break coefficient"
   ]
  },
  {
   "cell_type": "markdown",
   "metadata": {},
   "source": [
    "\n",
    "### System Model\n",
    "\n",
    "#### State and Input Arrays:\n",
    "$$ \\begin{align}\n",
    "x &= \\begin{bmatrix} x_{b} & y_{b} & \\theta & v & \\dot{\\theta} \\end{bmatrix} ^T \\\\\n",
    "u &= \\begin{bmatrix} \\delta_r & \\delta_s \\end{bmatrix} ^T\n",
    "\\end{align} $$"
   ]
  },
  {
   "cell_type": "markdown",
   "metadata": {},
   "source": [
    "#### True Wind:\n",
    "$$ \\begin{align}\n",
    "\\dot{x}_{tw} &= w_x(x_b, y_b) \\\\\n",
    "\\dot{y}_{tw} &= w_y(x_b, y_b) \\\\\n",
    "a_{tw} &= \\sqrt{\\dot{x}_{tw}^2 + \\dot{y}_{tw}^2}  \\\\\n",
    "\\psi_{tw} &= \\arctan{(\\frac{\\dot{y}_{tw}}{\\dot{x}_{tw}})} \\\\\n",
    "\\end{align} $$"
   ]
  },
  {
   "cell_type": "markdown",
   "metadata": {},
   "source": [
    "#### Apparent Wind:\n",
    "$$ \\begin{align}\n",
    "\\dot{x}_{aw} &= a_{tw} \\cos{(\\psi_{tw} - \\theta)} - v \\\\\n",
    "\\dot{y}_{aw} &= a_{tw} \\sin{(\\psi_{tw} - \\theta)} \\\\\n",
    "a_{aw} &= \\sqrt{\\dot{x}_{aw}^2 + \\dot{y}_{aw}^2}  \\\\\n",
    "\\psi_{aw} &= \\arctan{(\\frac{\\dot{y}_{aw}}{\\dot{x}_{aw}})} \\\\\n",
    "\\end{align} $$"
   ]
  },
  {
   "cell_type": "markdown",
   "metadata": {},
   "source": [
    "#### Sail and Rudder Forces:\n",
    "$$ \\begin{align}\n",
    "g_s &= p_4 a_{aw} \\sin{(\\delta_s - \\psi_{aw})} \\\\\n",
    "g_r &= p_5 v^2 \\sin{\\delta_r}\n",
    "\\end{align} $$"
   ]
  },
  {
   "cell_type": "markdown",
   "metadata": {},
   "source": [
    "#### Dynamics\n",
    "\n",
    "$$ \\begin{align}\n",
    "\\dot{x} = f(x, u, w) &= \n",
    "    \\begin{bmatrix}\n",
    "        v \\cos{\\theta} + p_1 a_{tw} \\cos{\\psi_{tw}} \\\\\n",
    "        v \\sin{\\theta} + p_1 a_{tw} \\sin{\\psi_{tw}} \\\\\n",
    "        \\dot{\\theta} \\\\\n",
    "        \\frac{g_s \\sin{\\delta_s} - g_r p_{11} \\sin{\\delta_r} - p_2 v^2}{p_9} \\\\\n",
    "        \\frac{g_s (p_6 - p_7 \\cos{\\delta_s}) - g_r p_8 \\cos{d_r} - p_3 \\dot{\\theta} v}{p_{10}}\n",
    "    \\end{bmatrix}\n",
    "\\end{align} $$"
   ]
  },
  {
   "cell_type": "code",
   "execution_count": null,
   "metadata": {},
   "outputs": [],
   "source": [
    "\"\"\"\n",
    "true wind velocity (vector field)\n",
    "\"\"\"\n",
    "function true_wind(xₒ,yₒ)\n",
    "    ẋ_tw = 1.\n",
    "    ẏ_tw = 0.\n",
    "    return ẋ_tw, ẏ_tw\n",
    "end\n",
    "\n",
    "\"\"\"\n",
    "dynamics\n",
    "\"\"\"\n",
    "function dynamics(x, u, p)\n",
    "    xₒ, yₒ, θ, v, θ̇ = x\n",
    "    δᵣ, δₛ = u\n",
    "    \n",
    "    # true wind\n",
    "    ẋ_tw, ẏ_tw = true_wind(xₒ,yₒ)\n",
    "    # a_tw, ψ_tw = car2pol(ẋ_tw, ẏ_tw)\n",
    "    a_tw = √(ẋ_tw^2 + ẏ_tw^2)\n",
    "    ψ_tw = atan(ẏ_tw, ẋ_tw)\n",
    "    \n",
    "    # apparent wind\n",
    "    ẋ_aw = a_tw * cos(ψ_tw - θ) - v\n",
    "    ẏ_aw = a_tw * sin(ψ_tw - θ)\n",
    "    # a_aw, ψ_aw = car2pol(ẋ_aw, ẏ_aw)\n",
    "    a_aw = √(ẋ_aw^2 + ẏ_aw^2)\n",
    "    ψ_aw = atan(ẏ_aw, ẋ_aw)\n",
    "    \n",
    "    # forces\n",
    "    gₛ = p[4] * a_aw * sin(δₛ - ψ_aw)\n",
    "    gᵣ = p[5] * v^2 * sin(δᵣ)\n",
    "\n",
    "    # dynamics\n",
    "    ẋ = [v*cos(θ) + p[1]*a_tw*cos(ψ_tw),\n",
    "         v*sin(θ) + p[1]*a_tw*sin(ψ_tw),\n",
    "         θ̇,\n",
    "         (gₛ*sin(δₛ) - gᵣ*p[11]*sin(δᵣ) - p[2]*v^2)/(p[9]),\n",
    "         (gₛ*(p[6] - p[7]*cos(δₛ)) - gᵣ*p[8]*cos(δᵣ) - p[3]*θ̇*v)/(p[10])]\n",
    "\n",
    "    return ẋ\n",
    "end;"
   ]
  },
  {
   "cell_type": "markdown",
   "metadata": {},
   "source": [
    "### Linearization\n",
    "\n",
    "$$ \\begin{align}\n",
    "A_c &= \\frac{\\delta f}{\\delta x} \\\\\n",
    "B_c &= \\frac{\\delta f}{\\delta u}\n",
    "\\end{align} $$"
   ]
  },
  {
   "cell_type": "code",
   "execution_count": null,
   "metadata": {},
   "outputs": [],
   "source": [
    "\"\"\"\n",
    "linear dynamics about a point\n",
    "\"\"\"\n",
    "function linearized_dynamics(x, u, p)\n",
    "    Ac = FD.jacobian(_x -> dynamics(_x, u, p), x)\n",
    "    Bc = FD.jacobian(_u -> dynamics(x, _u, p), u)\n",
    "\n",
    "    return Ac, Bc\n",
    "end;"
   ]
  },
  {
   "cell_type": "markdown",
   "metadata": {},
   "source": [
    "### Discretization"
   ]
  },
  {
   "cell_type": "code",
   "execution_count": null,
   "metadata": {},
   "outputs": [],
   "source": [
    "\"\"\"\n",
    "discretize a linear system using the matrix exponential\n",
    "\"\"\"\n",
    "function discretize(Ac, Bc, dt)\n",
    "    nx, nu = size(Bc)\n",
    "\n",
    "    # continuous-time block for [x u] state\n",
    "    Blockc = [Ac Bc;\n",
    "              zeros(nu,nx+nu)]\n",
    "    \n",
    "    # discrete-time block for [x u] state\n",
    "    Block = exp(Blockc*dt)\n",
    "    \n",
    "    A = Block[1:nx, 1:nx]\n",
    "    B = Block[1:nx, nx+1:nx+nu]\n",
    "    \n",
    "    return A, B\n",
    "end;"
   ]
  },
  {
   "cell_type": "markdown",
   "metadata": {},
   "source": [
    "### Integration"
   ]
  },
  {
   "cell_type": "code",
   "execution_count": null,
   "metadata": {},
   "outputs": [],
   "source": [
    "function rk4(x, u, p, dt)\n",
    "    k1 = dt*dynamics(x, u, p)\n",
    "    k2 = dt*dynamics(x + k1/2, u, p)\n",
    "    k3 = dt*dynamics(x + k2/2, u, p)\n",
    "    k4 = dt*dynamics(x + k3, u, p)\n",
    "\n",
    "    x_next = x + (k1 + 2*k2 + 2*k3 + k4)/6\n",
    "    x_next[2] = wrap2pi(x_next[2])\n",
    "    \n",
    "    return x_next\n",
    "end;"
   ]
  },
  {
   "cell_type": "markdown",
   "metadata": {},
   "source": [
    "### Trajectory Planning (Direct Collocation)"
   ]
  },
  {
   "cell_type": "code",
   "execution_count": null,
   "metadata": {},
   "outputs": [],
   "source": [
    "#TODO"
   ]
  },
  {
   "cell_type": "markdown",
   "metadata": {},
   "source": [
    "### Trajectory Tracking (TV-LQR)"
   ]
  },
  {
   "cell_type": "code",
   "execution_count": null,
   "metadata": {},
   "outputs": [],
   "source": [
    "#TODO"
   ]
  },
  {
   "cell_type": "markdown",
   "metadata": {},
   "source": [
    "### Old"
   ]
  },
  {
   "cell_type": "code",
   "execution_count": null,
   "metadata": {},
   "outputs": [],
   "source": [
    "p = [0.03, 40, 6000, 200, 1500, 0.5, 0.5, 2, 300, 400, 0.2]\n",
    "Δt = 0.1\n",
    "nx = 5\n",
    "nu = 2\n",
    "\n",
    "x0 = [0.0, 0.0, 0.0, 0.0, 0.0]\n",
    "x_goal = [100.0, 0.0, 0.0, 0.0, 0.0]\n",
    "\n",
    "Q = diagm([10.0, 10.0, 1.0, 1.0, 1.0])\n",
    "R = diagm([1.0, 1.0])\n",
    "\n",
    "u_min = [-5*π/12, -5*π/12]\n",
    "u_max = [5*π/12, 5*π/12]\n",
    "\n",
    "N = 1000\n",
    "t_vec = 0:Δt:((N-1)*Δt)\n",
    "\n",
    "X_sim = [zeros(nx) for i = 1:N_sim]\n",
    "X_sim[1] = x0\n",
    "X_sim[2] = x0\n",
    "U_sim = [zeros(nu) for i = 1:N_sim-1];\n",
    "U_sim[1] = [0.01, 0.01]\n",
    "U_sim[2] = [0.01, 0.01]"
   ]
  },
  {
   "cell_type": "code",
   "execution_count": null,
   "metadata": {},
   "outputs": [],
   "source": [
    "@showprogress \"simulating\" for i = 2:N_sim-1\n",
    "    A, B = discretize(linearized_dynamics(X_sim[i], U_sim[i-1], p)..., Δt)\n",
    "\n",
    "    U_sim[i] = [0,0]\n",
    "    X_sim[i+1] = rk4(X_sim[i], U_sim[i], p, Δt)\n",
    "end"
   ]
  },
  {
   "cell_type": "code",
   "execution_count": 27,
   "metadata": {},
   "outputs": [],
   "source": [
    "Xm = mat_from_vec(X_sim)\n",
    "Um = mat_from_vec(U_sim);\n",
    "\n",
    "display(plot(Xm[1,:],Xm[2,:],title = \"Trajectory\",\n",
    "        xlabel = \"x position (m)\", ylabel = \"y position (m)\"))\n",
    "\n",
    "display(plot(t_vec,Xm[1:2,:]',title = \"Positions\",\n",
    "        xlabel = \"time (s)\", ylabel = \"positions (m)\",\n",
    "        label = [\"x\" \"y\"]))\n",
    "\n",
    "# display(plot(t_vec,Xm[4:6,:]',title = \"Velocities\",\n",
    "#         xlabel = \"time (s)\", ylabel = \"velocity (m/s)\",\n",
    "#         label = [\"x\" \"y\" \"z\"]))\n",
    "\n",
    "display(plot(t_vec[1:end-1],Um[1:2,:]',title = \"Control\",\n",
    "        xlabel = \"time (s)\", ylabel = \"angle (rad)\",\n",
    "        label = [\"rudder\" \"sail\"]))"
   ]
  }
 ],
 "metadata": {
  "kernelspec": {
   "display_name": "Julia 1.6.7",
   "language": "julia",
   "name": "julia-1.6"
  },
  "language_info": {
   "file_extension": ".jl",
   "mimetype": "application/julia",
   "name": "julia",
   "version": "1.6.7"
  }
 },
 "nbformat": 4,
 "nbformat_minor": 2
}
