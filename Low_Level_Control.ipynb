{
 "cells": [
  {
   "cell_type": "code",
   "execution_count": 1,
   "metadata": {},
   "outputs": [
    {
     "name": "stderr",
     "output_type": "stream",
     "text": [
      "\u001b[32m\u001b[1m  Activating\u001b[22m\u001b[39m environment at `c:\\CMU_Spring\\OptimalSailboat\\Project.toml`\n"
     ]
    },
    {
     "data": {
      "text/plain": [
       "fmincon (generic function with 1 method)"
      ]
     },
     "metadata": {},
     "output_type": "display_data"
    }
   ],
   "source": [
    "import Pkg\n",
    "Pkg.activate(@__DIR__)\n",
    "Pkg.instantiate()\n",
    "\n",
    "using LinearAlgebra, Plots\n",
    "using ProgressMeter\n",
    "import ForwardDiff as FD\n",
    "import Convex as cvx\n",
    "import ECOS\n",
    "\n",
    "include(joinpath(@__DIR__,\"utils\",\"fmincon.jl\"))"
   ]
  },
  {
   "cell_type": "code",
   "execution_count": 1,
   "metadata": {},
   "outputs": [],
   "source": [
    "\"\"\"\n",
    "Converts from cartesian (x,y) to polar (r,θ) coordinates.\n",
    "\"\"\"\n",
    "function car2pol(x, y)\n",
    "    r = √(x^2 + y^2)\n",
    "    θ = atan(y, x)\n",
    "    return r, θ\n",
    "end;\n",
    "\n",
    "\"\"\"\n",
    "Wraps an angle (in radians) to the range [-π, π].\n",
    "\"\"\"\n",
    "function wrap2pi(θ)\n",
    "    return θ - 2*π*floor((θ+π)/(2*π))\n",
    "end;\n",
    "\n",
    "\"\"\"\n",
    "Converts from a vector of vectors to a matrix.\n",
    "\"\"\"\n",
    "function vec2mat(X::Vector{Vector{Float64}})::Matrix\n",
    "    # convert a vector of vectors to a matrix \n",
    "    Xm = hcat(X...)\n",
    "    return Xm \n",
    "end;\n",
    "\n",
    "\"\"\"\n",
    "Converts from a matrix to a vector of vectors.\n",
    "\"\"\"\n",
    "function mat2vec(Xm::Matrix)::Vector{Vector{Float64}}\n",
    "    # convert a matrix into a vector of vectors \n",
    "    X = [Xm[:,i] for i = 1:size(Xm,2)]\n",
    "    return X \n",
    "end;"
   ]
  },
  {
   "cell_type": "markdown",
   "metadata": {},
   "source": [
    "### Variable Definitions\n",
    "\n",
    "Assumptions\n",
    "Small Angle of Attack (Sub 15degrees)\n",
    "Linearized lift\n",
    "\n",
    "### State Variables:\n",
    "\n",
    "- x: Position in the longitudinal (forward-backward) direction.\n",
    "- y: Position in the lateral (side-to-side) direction.\n",
    "- $\\psi$: Roll angle\n",
    "- $\\phi$: Yaw angle\n",
    "\n",
    "- u: Linear velocity in the longitudinal (forward-backward) direction.\n",
    "- $\\nu$: Linear Velocity in the lateral (side-to-side) direction.\n",
    "- p: angular velocity roll\n",
    "- r: angular velocity yaw\n",
    "\n",
    "\n",
    "#### Control Variables:\n",
    "- $\\lambda$ - sail angle\n",
    " - $\\sigma$ - rudder angle\n",
    " \n",
    "\n",
    "#### Wind and Force Variables:\n",
    " - $a_{tw}$ - true wind speed\n",
    " - $\\psi_{tw}$ - true wind direction\n",
    " - $g_s$ - force from sail\n",
    " - $g_r$ - force from rudder\n",
    "\n",
    "#### Parameters:\n",
    "- $m$ - Mass of the sailboat\n",
    "- $I_{xx}$ - Moment of inertia about the x-axis\n",
    "- $I_{zz}$ - Moment of inertia about the z-axis\n",
    "- $I_{xz}$ - Product of inertia\n",
    "- $X_{\\dot{u}}$ - Added mass in $x'$ due to acceleration in the $x'$ direction\n",
    "- $Y_{\\dot{\\nu}}$ - Added mass in sway due to acceleration in the $y'$ direction\n",
    "- $Y_{\\dot{p}}$ - Added mass effect due to angular acceleration around the $x'$ axis\n",
    "- $Y_{\\dot{r}}$ - Cross-coupling added mass effect due to yaw rate around the $z'$ axis\n",
    "- $K_{\\dot{r}}$ - Added mass effect due to yaw rate affecting roll dynamics around the $z'$ axis\n",
    "- $K_{\\dot{p}}$ - Added mass effect due to roll rate around the $x'$ axis\n",
    "- $N_{\\dot{r}}$ - Added mass in yaw due to angular acceleration around the $z'$ axis\n",
    "\n",
    "\n",
    "\n",
    "\n",
    " "
   ]
  },
  {
   "cell_type": "code",
   "execution_count": null,
   "metadata": {},
   "outputs": [],
   "source": [
    "function J(ϕ,ψ)\n",
    "    J = [cos(ψ) -sin(ψ)*cos(ϕ)  0 0;\n",
    "         sin(ψ) cos(ψ)*cos(ϕ)  0 0;\n",
    "         0 0 1 0;\n",
    "         0 0 0 cos(ϕ)]\n",
    "    return J\n",
    "end;\n",
    "\n",
    "function J2D(ϕ,ψ)\n",
    "    J = [cos(ψ) -sin(ψ)*cos(ϕ);\n",
    "         sin(ψ) cos(ψ)*cos(ϕ)]\n",
    "    return J\n",
    "end;\n",
    "\n",
    "function MRB(m, Ixx, Izz)\n",
    "    M = [ m 0 0 0;\n",
    "          0 m 0 0;\n",
    "          0 0 Ixx 0;\n",
    "          0 0 0 Izz]\n",
    "    return M\n",
    "end;\n",
    "\n",
    "function MA(X_u̇, Y_v̇, K_ṗ, N_ṙ)\n",
    "    MA = -diagonal([X_u̇, Y_v̇, K_ṗ, N_ṙ])\n",
    "    return MA\n",
    "end;\n",
    "\n",
    "function CRB(v)\n",
    "    m = v[1]\n",
    "    r = v[2]\n",
    "    \n",
    "    C = [0 -m*r 0 0;\n",
    "         m*r 0 0 0;\n",
    "         0 0 0 0;\n",
    "         0 0 0 0]\n",
    "    return C\n",
    "end;\n",
    "\n",
    "function CA(v, Y_v̇, X_u̇) \n",
    "\n",
    "    C = [ 0 0 0 Y_v̇*v;\n",
    "        0 0 0 -X_u̇*v;\n",
    "        0 0 0 0;\n",
    "        -Y_v̇*v X_u̇*v 0 0]\n",
    "    return C\n",
    "end;\n",
    "\n",
    "\n"
   ]
  },
  {
   "cell_type": "code",
   "execution_count": null,
   "metadata": {},
   "outputs": [],
   "source": [
    "# Lets assume that restoring forces are dominant and that the ship is symmetri.\n",
    "# This means that we can represent our system as a 3-DOF system."
   ]
  },
  {
   "cell_type": "markdown",
   "metadata": {},
   "source": [
    "Hydrodynamic force is a result of water pressing on the hull. Total resistance contains three components. First one is frictional drag. It is described by the following formula:\n",
    "\n",
    "$$ F_{hf} = \\frac{1}{2} \\rho v^2 SC_f $$\n",
    "\n",
    "Where rho is the density of water, v is the speed of the boat, S is the surface area of the submerged part of the hull and Cf is the coefficient of frictional resistance.\n",
    "\n",
    "Another two components of total resistance are pressure drag and the wave drag. The first one is caused by relatively lowpressure area behind the boat. The wave drag exists because the yacht transfers a part of its kinetic energy on the water and creates waves. Both of them are very\n",
    "difficult to calculate and they are inter-dependent. They are often considered to be just one value: \n",
    "\n",
    "$$ F_{hr} = F_{hp} + F_{hw} = \\frac{1}{2} \\rho v^2 SC_{r} $$\n",
    "\n",
    "Where Cr is the coefficient of pressure and wave resistance \n",
    "\n",
    "https://ieeexplore.ieee.org/stamp/stamp.jsp?tp=&arnumber=4581575"
   ]
  },
  {
   "cell_type": "markdown",
   "metadata": {},
   "source": []
  }
 ],
 "metadata": {
  "kernelspec": {
   "display_name": "Julia 1.6.7",
   "language": "julia",
   "name": "julia-1.6"
  },
  "language_info": {
   "file_extension": ".jl",
   "mimetype": "application/julia",
   "name": "julia",
   "version": "1.6.7"
  }
 },
 "nbformat": 4,
 "nbformat_minor": 2
}
