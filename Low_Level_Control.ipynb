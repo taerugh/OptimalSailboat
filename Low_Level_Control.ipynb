{
 "cells": [
  {
   "cell_type": "code",
   "execution_count": 4,
   "metadata": {},
   "outputs": [
    {
     "name": "stderr",
     "output_type": "stream",
     "text": [
      "\u001b[32m\u001b[1m  Activating\u001b[22m\u001b[39m environment at `c:\\CMU_Spring\\OptimalSailboat\\Project.toml`\n"
     ]
    },
    {
     "data": {
      "text/plain": [
       "fmincon (generic function with 1 method)"
      ]
     },
     "metadata": {},
     "output_type": "display_data"
    }
   ],
   "source": [
    "import Pkg\n",
    "Pkg.activate(@__DIR__)\n",
    "Pkg.instantiate()\n",
    "\n",
    "using LinearAlgebra, Plots\n",
    "using ProgressMeter\n",
    "import ForwardDiff as FD\n",
    "import Convex as cvx\n",
    "import ECOS\n",
    "\n",
    "include(joinpath(@__DIR__,\"utils\",\"fmincon.jl\"))"
   ]
  }
 ],
 "metadata": {
  "kernelspec": {
   "display_name": "Julia 1.6.7",
   "language": "julia",
   "name": "julia-1.6"
  },
  "language_info": {
   "file_extension": ".jl",
   "mimetype": "application/julia",
   "name": "julia",
   "version": "1.6.7"
  }
 },
 "nbformat": 4,
 "nbformat_minor": 2
}
